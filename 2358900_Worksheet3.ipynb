{
  "nbformat": 4,
  "nbformat_minor": 0,
  "metadata": {
    "colab": {
      "provenance": []
    },
    "kernelspec": {
      "name": "python3",
      "display_name": "Python 3"
    },
    "language_info": {
      "name": "python"
    }
  },
  "cells": [
    {
      "cell_type": "markdown",
      "source": [
        "##Task1"
      ],
      "metadata": {
        "id": "yFNmB80HrGoU"
      }
    },
    {
      "cell_type": "code",
      "execution_count": null,
      "metadata": {
        "colab": {
          "base_uri": "https://localhost:8080/"
        },
        "id": "nkVdy5MFq-nw",
        "outputId": "6d68ccd9-3e6f-460a-9f2d-692fb6ebeb49"
      },
      "outputs": [
        {
          "output_type": "stream",
          "name": "stdout",
          "text": [
            "Output of AND gate for inputs [0, 0, 1, 1] and [0, 1, 0, 1] with threshold 2: [0, 0, 0, 1]\n"
          ]
        }
      ],
      "source": [
        "def MCP_Neurons_AND(X1, X2, T):\n",
        "    \"\"\"\n",
        "    This function implements a basic AND operation using an MCP Neuron for two inputs.\n",
        "\n",
        "    Arguments:\n",
        "    X1 (list): An array of binary values.\n",
        "    X2 (list): An array of binary values.\n",
        "    T (int): Threshold value.\n",
        "\n",
        "    Output:\n",
        "    state_neuron (list): A list representing the neuron state (1 or 0) for the given inputs.\n",
        "    \"\"\"\n",
        "    assert len(X1) == len(X2), \"Input lists must have the same length\"\n",
        "\n",
        "    state_neuron = []\n",
        "\n",
        "    for x1, x2 in zip(X1, X2):\n",
        "        if (x1 + x2) >= T:\n",
        "            state_neuron.append(1)\n",
        "        else:\n",
        "            state_neuron.append(0)\n",
        "\n",
        "    return state_neuron\n",
        "\n",
        "# Example usage for MCP_Neurons_AND function\n",
        "X1 = [0, 0, 1, 1]\n",
        "X2 = [0, 1, 0, 1]\n",
        "T = 2  # Threshold value\n",
        "\n",
        "result = MCP_Neurons_AND(X1, X2, T)\n",
        "print(f\"Output of AND gate for inputs {X1} and {X2} with threshold {T}: {result}\")\n"
      ]
    },
    {
      "cell_type": "code",
      "source": [
        "def MCP_Neurons_OR(X1, X2, T):\n",
        "    \"\"\"\n",
        "    This function implements basic OR operations with MCP Neuron for two inputs.\n",
        "    Arguments:\n",
        "    X1 (1D array): An array of binary values.\n",
        "    X2 (1D array): An array of binary values.\n",
        "    T (int): Threshold value.\n",
        "    Returns:\n",
        "    state_neuron (1D list): The state of the neuron (1 or 0) for the particular inputs.\n",
        "    \"\"\"\n",
        "    assert len(X1) == len(X2)\n",
        "    state_neuron =[]\n",
        "\n",
        "    for x1, x2 in zip(X1, X2):\n",
        "        if (x1 + x2) >= T:\n",
        "            state_neuron.append(1)\n",
        "        else:\n",
        "            state_neuron.append(0)\n",
        "\n",
        "    return state_neuron\n",
        "\n",
        "# Example usage for MCP_Neurons_OR function\n",
        "T = 1 # Threshold value for OR gate\n",
        "result_or = MCP_Neurons_OR(X1, X2, T)\n",
        "print(f\"Output of OR gate for inputs {X1} and {X2} with threshold {T}: {result_or}\")\n"
      ],
      "metadata": {
        "colab": {
          "base_uri": "https://localhost:8080/"
        },
        "id": "SZnP7kVmvcj8",
        "outputId": "21b43256-f5a0-401c-bde1-7c594a30eba0"
      },
      "execution_count": null,
      "outputs": [
        {
          "output_type": "stream",
          "name": "stdout",
          "text": [
            "Output of OR gate for inputs [0, 0, 1, 1] and [0, 1, 0, 1] with threshold 1: [0, 1, 1, 1]\n"
          ]
        }
      ]
    },
    {
      "cell_type": "markdown",
      "source": [
        "##Answer the following question"
      ],
      "metadata": {
        "id": "G31rp-2nwgYX"
      }
    },
    {
      "cell_type": "markdown",
      "source": [
        "1. List out all the limitations of MCP -Neurons.\n",
        "\n",
        "= MCP nreurons only work with linearly separable functions like AND and OR fail with XOR.\n",
        "\n",
        "= It has fixed threshold values, which limits its ability to learn dynamically.\n",
        "\n",
        "= Cannot handle complex problem requiring multi-layer processing.\n",
        "\n",
        "= No learning capability, as weights are not adjusted automatically.\n"
      ],
      "metadata": {
        "id": "6enLPHK1wt1Z"
      }
    },
    {
      "cell_type": "markdown",
      "source": [
        "2. Think if you can develop logic to solve for XOR function using MCP neuron.\n",
        "\n",
        "= XOR function cannot be directly implemented using a single-layer MCP neuron as it is linearly separable.\n",
        "\n",
        "= However, we can use a combination of MCP neurons to form an XOR gate.\n",
        "\n",
        "= Use AND, OR, and NAND (NOT AND) gates to create an XOR function:\n",
        "\n",
        "= XOR =(X1 OR X2) AND (NOT(X1 AND X2))"
      ],
      "metadata": {
        "id": "Hs5n-BMZxQ_k"
      }
    },
    {
      "cell_type": "code",
      "source": [
        "import pandas as pd\n",
        "import numpy as np\n",
        "import matplotlib.pyplot as plt\n",
        "\n",
        "df_0_1 = pd.read_csv(\"/content/drive/MyDrive/mnist_0_and_1.csv\")\n",
        "\n",
        "# Check column names\n",
        "print(df_0_1.columns)  # Debugging step\n",
        "\n",
        "# Fix column name if it's \"label\" instead of \"lable\"\n",
        "X = df_0_1.drop(columns=[\"label\"]).values  # Correct column name\n",
        "Y = df_0_1[\"label\"].values  # Correct column name\n",
        "\n",
        "# Print shapes\n",
        "print(\"Feature matrix shape: \", X.shape)\n",
        "print(\"Label vector shape: \", Y.shape)  # Fixed from `y.shape`\n",
        "\n",
        "# Visualize some images\n",
        "images_0 = X[Y == 0]\n",
        "images_1 = X[Y == 1]\n",
        "\n",
        "fig, axes = plt.subplots(2, 5, figsize=(10, 5))\n",
        "for i in range(5):\n",
        "    axes[0, i].imshow(images_0[i].reshape(28, 28), cmap=\"gray\")\n",
        "    axes[0, i].set_title(\"Label: 0\")\n",
        "    axes[0, i].axis(\"off\")\n",
        "\n",
        "    axes[1, i].imshow(images_1[i].reshape(28, 28), cmap=\"gray\")\n",
        "    axes[1, i].set_title(\"Label: 1\")\n",
        "    axes[1, i].axis(\"off\")\n",
        "plt.suptitle(\"First 5 Images of 0 and 1 from MNIST Subset\")\n",
        "plt.show()\n",
        "\n",
        "# Initialize weights and bias\n",
        "weights = np.zeros(X.shape[1])  # 784 weights (one for each pixel)\n",
        "bias = 0\n",
        "learning_rate = 0.1\n",
        "epochs = 100\n",
        "\n",
        "# Decision function\n",
        "def decision_function(X, weights, bias):\n",
        "    predictions = np.dot(X, weights) + bias\n",
        "    return np.where(predictions >= 0, 1, 0)  # Step function\n",
        "\n",
        "# Train Perceptron\n",
        "def train_perceptron(X, y, weights, bias, learning_rate=0.1, epochs=100):\n",
        "    for epoch in range(epochs):\n",
        "        for i in range(len(y)):\n",
        "            output = np.dot(X[i], weights) + bias\n",
        "            prediction = 1 if output >= 0 else 0\n",
        "            error = y[i] - prediction\n",
        "\n",
        "            # Update rule\n",
        "            weights += learning_rate * error * X[i]\n",
        "            bias += learning_rate * error\n",
        "\n",
        "    # Compute accuracy\n",
        "    y_pred = decision_function(X, weights, bias)\n",
        "    accuracy = np.mean(y_pred == y)\n",
        "    return weights, bias, accuracy\n",
        "\n",
        "# Train perceptron\n",
        "weights, bias, accuracy = train_perceptron(X, Y, weights, bias)\n",
        "print(\"The Final Accuracy is:\", accuracy)\n",
        "\n",
        "# Visualize misclassified images\n",
        "predictions = np.dot(X, weights) + bias\n",
        "y_pred = np.where(predictions >= 0, 1, 0)\n",
        "misclassified_idx = np.where(y_pred != Y)[0]\n",
        "\n",
        "if len(misclassified_idx) > 0:\n",
        "    fig, axes = plt.subplots(2, 5, figsize=(10, 5))\n",
        "    for ax, idx in zip(axes.flat, misclassified_idx[:10]):\n",
        "        ax.imshow(X[idx].reshape(28, 28), cmap=\"gray\")\n",
        "        ax.set_title(f\"Pred: {_pred[idx]}, True: {y[idx]}\")\n",
        "        ax.axis(\"off\")\n",
        "    plt.suptitle(\"Misclassified Images\")\n",
        "    plt.show()\n",
        "else:\n",
        "    print(\"All images were correctly classified!\")\n",
        "\n"
      ],
      "metadata": {
        "colab": {
          "base_uri": "https://localhost:8080/",
          "height": 625
        },
        "id": "orJK0ykY6IB8",
        "outputId": "1784dc0e-3327-467e-aaba-cd4762abe2c8"
      },
      "execution_count": null,
      "outputs": [
        {
          "output_type": "stream",
          "name": "stdout",
          "text": [
            "Index(['label', 'pixel_0', 'pixel_1', 'pixel_2', 'pixel_3', 'pixel_4',\n",
            "       'pixel_5', 'pixel_6', 'pixel_7', 'pixel_8',\n",
            "       ...\n",
            "       'pixel_774', 'pixel_775', 'pixel_776', 'pixel_777', 'pixel_778',\n",
            "       'pixel_779', 'pixel_780', 'pixel_781', 'pixel_782', 'pixel_783'],\n",
            "      dtype='object', length=785)\n",
            "Feature matrix shape:  (12665, 784)\n",
            "Label vector shape:  (12665,)\n"
          ]
        },
        {
          "output_type": "display_data",
          "data": {
            "text/plain": [
              "<Figure size 1000x500 with 10 Axes>"
            ],
            "image/png": "[encoded data removed]"
          },
          "metadata": {}
        },
        {
          "output_type": "stream",
          "name": "stdout",
          "text": [
            "The Final Accuracy is: 1.0\n",
            "All images were correctly classified!\n"
          ]
        }
      ]
    },
    {
      "cell_type": "markdown",
      "source": [
        "##Task3"
      ],
      "metadata": {
        "id": "DXxZ63bvPHAb"
      }
    },
    {
      "cell_type": "code",
      "source": [
        "import pandas as pd\n",
        "import numpy as np\n",
        "import matplotlib.pyplot as plt\n",
        "\n",
        "df_3_5 = pd.read_csv(\"/content/drive/MyDrive/mnist_3_and_5.csv\")\n",
        "\n",
        "X =df_3_5.drop(columns=[\"label\"]).values\n",
        "y = df_3_5[\"label\"].values\n",
        "\n",
        "y = np.where(y == 3, 0, 1)\n",
        "\n",
        "print(\"Feature matrix shape:\", X.shape)\n",
        "print(\"Lable vector shape:\", y.shape)\n"
      ],
      "metadata": {
        "colab": {
          "base_uri": "https://localhost:8080/"
        },
        "id": "cqIHFnLIPJd2",
        "outputId": "914a18bf-6186-45cb-9ab2-80a4b69e5030"
      },
      "execution_count": null,
      "outputs": [
        {
          "output_type": "stream",
          "name": "stdout",
          "text": [
            "Feature matrix shape: (2741, 784)\n",
            "Lable vector shape: (2741,)\n"
          ]
        }
      ]
    },
    {
      "cell_type": "markdown",
      "source": [
        "##Visualize Sample Images"
      ],
      "metadata": {
        "id": "55KU2Y1_Qhps"
      }
    },
    {
      "cell_type": "code",
      "source": [
        "y = df_3_5[\"label\"].values\n",
        "y= np.where(y == 3, 0, 1)\n",
        "\n",
        "images_3 =X[y == 0]\n",
        "images_5 =X[y == 1]\n",
        "\n",
        "fig, axes =plt.subplots(2,5, figsize= (10, 5))\n",
        "for i in range(5):\n",
        " axes[0, i].imshow(images_3[i].reshape(28, 28), cmap=\"gray\")\n",
        " axes[0, i].set_title(\"Label: 3\")\n",
        " axes[0, i].axis(\"off\")\n",
        "\n",
        " axes[1, i].imshow(images_5[i].reshape(28, 28), cmap=\"gray\")\n",
        " axes[1, i].set_title(\"Label: 5\")\n",
        " axes[1, i].axis(\"off\")\n",
        "\n",
        "plt.suptitle(\"First 5 images of 3 and 5 from MNIST subset\")\n",
        "plt.show()\n"
      ],
      "metadata": {
        "colab": {
          "base_uri": "https://localhost:8080/",
          "height": 451
        },
        "id": "kE96xdyWQlO2",
        "outputId": "1b5eede6-1fcf-4456-dd6f-ce0a5dc661cd"
      },
      "execution_count": null,
      "outputs": [
        {
          "output_type": "display_data",
          "data": {
            "text/plain": [
              "<Figure size 1000x500 with 10 Axes>"
            ],
            "image/png": "[encoded data removed]"
          },
          "metadata": {}
        }
      ]
    },
    {
      "cell_type": "markdown",
      "source": [
        "##Initialize Weights and Bias"
      ],
      "metadata": {
        "id": "0aRnbs6wcZJE"
      }
    },
    {
      "cell_type": "code",
      "source": [
        "weights = np.zeros(X.shape[1])\n",
        "bias = 0\n",
        "learning_rate = 0.1\n",
        "epochs = 100"
      ],
      "metadata": {
        "id": "34WGhDiDcdsq"
      },
      "execution_count": null,
      "outputs": []
    },
    {
      "cell_type": "markdown",
      "source": [
        "##Implement decision function"
      ],
      "metadata": {
        "id": "D_FxL8Jictw7"
      }
    },
    {
      "cell_type": "code",
      "source": [
        "def decision_function(X, weights, bias):\n",
        "  predictions = np.dot(X, weights) + bias\n",
        "  return np.where(predictions >= 0, 1, 0)"
      ],
      "metadata": {
        "id": "AWZKmkpjcxee"
      },
      "execution_count": null,
      "outputs": []
    },
    {
      "cell_type": "markdown",
      "source": [
        "##Implement Perception Training algorithm"
      ],
      "metadata": {
        "id": "a0I_59vAdL_-"
      }
    },
    {
      "cell_type": "code",
      "source": [
        "def train_perception(X, y, weights, bias, learning_rate= 0.1, epochs = 100):\n",
        "  for epoch in range (epochs):\n",
        "    for i in range(len(X)):\n",
        "      prediction = np.dot(X[i], weights) + bias\n",
        "      y_pred = 1 if prediction >= 0 else 0\n",
        "\n",
        "      error =y[i] - y_pred\n",
        "      weights += learning_rate * error *X[i]\n",
        "      bias += learning_rate * error\n",
        "\n",
        "  return weights, bias"
      ],
      "metadata": {
        "id": "BdnamEBAdLYf"
      },
      "execution_count": null,
      "outputs": []
    },
    {
      "cell_type": "markdown",
      "source": [
        "##Train the perceptron"
      ],
      "metadata": {
        "id": "x_2P8CO7ebta"
      }
    },
    {
      "cell_type": "code",
      "source": [
        "weights, bias, accuracy = train_perceptron(X, y, weights, bias)\n",
        "print(\"Final accuracy:\", accuracy)"
      ],
      "metadata": {
        "colab": {
          "base_uri": "https://localhost:8080/"
        },
        "id": "U3E2y5yQeggr",
        "outputId": "6cfb98c4-e43f-4152-b893-c00e958301fa"
      },
      "execution_count": null,
      "outputs": [
        {
          "output_type": "stream",
          "name": "stdout",
          "text": [
            "Final accuracy: 1.0\n"
          ]
        }
      ]
    },
    {
      "cell_type": "markdown",
      "source": [
        "##Evaluate model performance"
      ],
      "metadata": {
        "id": "GXVzGiGtfQyN"
      }
    },
    {
      "cell_type": "code",
      "source": [
        "y_pred = decision_function(X, weights, bias)\n",
        "\n",
        "accuracy = np.mean(y_pred == y)\n",
        "print(f\"final accuracy:{accuracy: .4f}\")"
      ],
      "metadata": {
        "colab": {
          "base_uri": "https://localhost:8080/"
        },
        "id": "5rq9GWL5fP_O",
        "outputId": "21669f5a-135f-43a7-de80-79ddbc7d9226"
      },
      "execution_count": null,
      "outputs": [
        {
          "output_type": "stream",
          "name": "stdout",
          "text": [
            "final accuracy: 1.0000\n"
          ]
        }
      ]
    },
    {
      "cell_type": "markdown",
      "source": [
        "##Visualize Misclassified Images"
      ],
      "metadata": {
        "id": "0LG3fDxXfvP6"
      }
    },
    {
      "cell_type": "code",
      "source": [
        "misclassified_idx = np.where (y_pred != y)[0]\n",
        "if len(misclassified_idx) > 0:\n",
        "  fig, axes = plt.subplots(2, 5, figsize=(10,5))\n",
        "  for ax, idx in zip(axes.flat, misclassified_idx[:10]):\n",
        "    ax.imshow(X[idx].reshape(28, 28), cmap=\"gray\")\n",
        "    ax.set_title(f\"Pred: {y_pred[idx]}, True: {y[idx]}\")\n",
        "    ax.axis(\"off\")\n",
        "    plt.suptitle(\"Misclassified Images\")\n",
        "    plt.show()\n",
        "else:\n",
        "  print(\"All images were correctly classified!\")\n",
        "\n"
      ],
      "metadata": {
        "colab": {
          "base_uri": "https://localhost:8080/"
        },
        "id": "SPdUpN4tfuny",
        "outputId": "d5881a77-9d38-4866-d687-24c68d7f8704"
      },
      "execution_count": null,
      "outputs": [
        {
          "output_type": "stream",
          "name": "stdout",
          "text": [
            "All images were correctly classified!\n"
          ]
        }
      ]
    }
  ]
}